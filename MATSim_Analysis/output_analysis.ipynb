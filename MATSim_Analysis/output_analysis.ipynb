{
 "cells": [
  {
   "cell_type": "code",
   "execution_count": 1,
   "metadata": {},
   "outputs": [],
   "source": [
    "import pandas as pd\n",
    "import numpy as np\n",
    "from matplotlib import pyplot as plt\n",
    "import os"
   ]
  },
  {
   "cell_type": "code",
   "execution_count": 18,
   "metadata": {},
   "outputs": [],
   "source": [
    "# get filepath to matsim outputs in box,\n",
    "filepath = 'MATSim_Outputs'\n",
    "filepath = '/Users/brynnwoolley/IMT_Research/BYU_imt_optimization/Outputs'\n",
    "\n",
    "# load in scenario code values & make them into a list \n",
    "codes = pd.read_csv('codes.csv')\n",
    "seed_dict = {row['Seed Value']: row['Number of Incidents'] for index, row in codes.iterrows()}\n",
    "seed_numbers = [int(folder.split('_')[1]) for folder in os.listdir(filepath) if os.path.isdir(os.path.join(filepath, folder)) and folder.startswith('Seed_')]\n",
    "\n",
    "# get processed seeds\n",
    "seeds = [(key, value) for key, value in seed_dict.items() if key in seed_numbers]\n",
    "seeds = [(key, value) for key, value in seeds if (key, value) != (637, 19)]\n",
    "\n",
    "\n",
    "# set up dictionary of column titles to print names\n",
    "types = {'total_delay' : \"Total Delay\", 'total_tt': \"Total Travel Time\", 'avg_executed': 'Avg Executed', 'avg_worst': 'Avg Worst', 'avg_avg': 'Avg Average', 'avg_best': 'Average Best'}\n",
    "fleets = {1: 'No IMTs', 2: 'Curr IMTs', 3: 'More IMTs'}"
   ]
  },
  {
   "cell_type": "code",
   "execution_count": 15,
   "metadata": {},
   "outputs": [
    {
     "data": {
      "text/plain": [
       "[(723, 4), (886, 5), (472, 21), (879, 19), (227, 19)]"
      ]
     },
     "execution_count": 15,
     "metadata": {},
     "output_type": "execute_result"
    }
   ],
   "source": [
    "seeds"
   ]
  },
  {
   "cell_type": "markdown",
   "metadata": {},
   "source": [
    "### Score Stats Functions"
   ]
  },
  {
   "cell_type": "code",
   "execution_count": 16,
   "metadata": {},
   "outputs": [],
   "source": [
    "def get_score_row(seed, imt_dep, num_inc, avg=0):\n",
    "    \"\"\"\n",
    "    Arguments:\n",
    "        seed (int): seed value for scenario\n",
    "        imt_dep (int): 1 = no imts, 2 = current imts, 3 = improved imts\n",
    "        num_inc (int): number of incidents\n",
    "        avg (int): how many of the last iterations to average\n",
    "    \"\"\"\n",
    "    if imt_dep == 1:\n",
    "        filename = f'{filepath}/Seed_{seed}/Incidents_{imt_dep}-{num_inc}-{seed}/scorestats.txt'\n",
    "    else:\n",
    "        filename = f'/{filepath}/Seed_{seed}/IMT_{imt_dep}-{num_inc}-{seed}/scorestats.txt'\n",
    "\n",
    "    try:\n",
    "        # Attempt to open and process the file\n",
    "        with open(filename, 'r') as file:\n",
    "            # Your file processing code here\n",
    "            df = pd.read_csv(filename, delimiter='\\t', index_col=0)\n",
    "\n",
    "            if avg == 0:\n",
    "                return df[df.index==100]\n",
    "            \n",
    "            else:\n",
    "                return df.iloc[-avg:, 0:].mean()\n",
    "            \n",
    "    except FileNotFoundError:\n",
    "        # Handle the error by skipping the file\n",
    "        index_values = ['avg. EXECUTED', 'avg. WORST', 'avg. AVG', 'avg. BEST']\n",
    "        nan_series = pd.Series(np.nan, index=index_values)\n",
    "        return nan_series\n",
    "\n",
    "def get_score_df(n=0):\n",
    "    \n",
    "    list = []\n",
    "    for (seed, inc) in seeds:\n",
    "        for i in range(1,4):\n",
    "            row = get_score_row(seed, i, inc, avg=n)\n",
    "            code = f'{i}-{inc}-{seed}'\n",
    "\n",
    "            avg_executed = float(row['avg. EXECUTED'])\n",
    "            avg_worst = float(row['avg. WORST'])\n",
    "            avg_avg = float(row['avg. AVG'])\n",
    "            avg_best = float(row['avg. BEST'])\n",
    "\n",
    "            new_row = [code, seed, fleets[i], i, inc, avg_executed, avg_worst, avg_avg, avg_best]\n",
    "            list.append(new_row)\n",
    "\n",
    "    data = pd.DataFrame(data=list, columns=['code', 'seed', 'fleet', 'fleet_code','incidents', 'avg_executed', 'avg_worst', 'avg_avg', 'avg_best'])\n",
    "    data = data.dropna()\n",
    "\n",
    "    if n == 0:\n",
    "        data.name = 'Score values from 100th iteration'\n",
    "    else:\n",
    "        data.name = f'average of last {n} iterations scores values'\n",
    "\n",
    "    return data"
   ]
  },
  {
   "cell_type": "markdown",
   "metadata": {},
   "source": [
    "### Vehicle Hour Delay Functions"
   ]
  },
  {
   "cell_type": "code",
   "execution_count": 5,
   "metadata": {},
   "outputs": [],
   "source": [
    "def get_vhd_row(seed, imt_dep, num_inc, avg=0):\n",
    "    \"\"\"\n",
    "    Arguments:\n",
    "        seed (int): seed value for scenario\n",
    "        imt_dep (int): 1 = no imts, 2 = current imts, 3 = improved imts\n",
    "        num_inc (int): number of incidents\n",
    "        avg (int): how many of the last iterations to average\n",
    "    \"\"\"\n",
    "    if imt_dep == 1:\n",
    "        filename = f'{filepath}/Seed_{seed}/Incidents_{imt_dep}-{num_inc}-{seed}/null.decongestion_info.csv'\n",
    "    else:\n",
    "        filename = f'{filepath}/Seed_{seed}/IMT_{imt_dep}-{num_inc}-{seed}/null.decongestion_info.csv'\n",
    "\n",
    "    try:\n",
    "        # Attempt to open and process the file\n",
    "        with open(filename, 'r') as file:\n",
    "            # Your file processing code here\n",
    "            #df = pd.read_csv(filename, delimiter=';', index_col=0)\n",
    "            df = pd.read_csv(filename, index_col=0)\n",
    "\n",
    "            if avg == 0:\n",
    "                return df[df.index==100]\n",
    "            \n",
    "            else:\n",
    "                return df.iloc[-avg:, 0:].mean()\n",
    "            \n",
    "    except FileNotFoundError:\n",
    "        # Handle the error by skipping the file\n",
    "        index_values = [' Total delay [hours] ', ' Total congestion toll payments [monetary units] ', ' Total travel time [hours]', ' Total user benefits [monetary units]', ' System welfare (only considering congestion toll revenues, other revenues are neglected [monetary units]']\n",
    "        nan_series = pd.Series(np.nan, index=index_values)\n",
    "        return nan_series\n",
    "\n",
    "def get_vhd_df(n=0):\n",
    "\n",
    "    list = []\n",
    "    for (seed, inc) in seeds:\n",
    "        for i in range(1,4):\n",
    "            row = get_vhd_row(seed, i, inc, avg=n)\n",
    "            code = f'{i}-{inc}-{seed}'\n",
    "            \n",
    "            total_delay = float(row[' Total delay [hours] '])\n",
    "            total_tt = float(row[' Total travel time [hours]'])\n",
    "            total_user_benefits = float(row[' Total user benefits [monetary units]'])\n",
    "            system_welfare = float(row[' System welfare (only considering congestion toll revenues'])\n",
    "\n",
    "            new_row = [code, seed, fleets[i], i, inc, total_delay, total_tt, total_user_benefits, system_welfare]\n",
    "            list.append(new_row)\n",
    "\n",
    "    data = pd.DataFrame(data=list, columns=['code', 'seed', 'fleet', 'fleet_code','incidents', 'total_delay', 'total_tt', 'total_user_benefits', 'system_welfare'])\n",
    "    data = data.dropna()\n",
    "\n",
    "    if n == 0:\n",
    "        data.name = 'VHD values from 100th iteration'\n",
    "    else:\n",
    "        data.name = f'average of last {n} iterations VHD values'\n",
    "\n",
    "    return data"
   ]
  },
  {
   "cell_type": "code",
   "execution_count": 6,
   "metadata": {},
   "outputs": [
    {
     "data": {
      "text/plain": [
       "879"
      ]
     },
     "execution_count": 6,
     "metadata": {},
     "output_type": "execute_result"
    }
   ],
   "source": [
    "seeds[3][0]\n"
   ]
  },
  {
   "cell_type": "code",
   "execution_count": 7,
   "metadata": {},
   "outputs": [
    {
     "name": "stdout",
     "output_type": "stream",
     "text": [
      "MATSim_Outputs/Seed_723/IMT_2-4-723/null.decongestion_info.csv\n",
      "columns: Index([' Total delay [hours] ', ' Total travel time [hours]',\n",
      "       ' Total user benefits [monetary units]',\n",
      "       ' System welfare (only considering congestion toll revenues'],\n",
      "      dtype='object')\n",
      "\n",
      "MATSim_Outputs/Seed_886/IMT_2-5-886/null.decongestion_info.csv\n",
      "columns: Index([' Total delay [hours] ', ' Total travel time [hours]',\n",
      "       ' Total user benefits [monetary units]',\n",
      "       ' System welfare (only considering congestion toll revenues'],\n",
      "      dtype='object')\n",
      "\n",
      "MATSim_Outputs/Seed_472/IMT_2-21-472/null.decongestion_info.csv\n",
      "columns: Index([' Total delay [hours] ', ' Total travel time [hours]',\n",
      "       ' Total user benefits [monetary units]',\n",
      "       ' System welfare (only considering congestion toll revenues'],\n",
      "      dtype='object')\n",
      "\n",
      "MATSim_Outputs/Seed_879/IMT_2-19-879/null.decongestion_info.csv\n",
      "columns: Index([' Total delay [hours] ', ' Total travel time [hours]',\n",
      "       ' Total user benefits [monetary units]',\n",
      "       ' System welfare (only considering congestion toll revenues'],\n",
      "      dtype='object')\n",
      "\n",
      "MATSim_Outputs/Seed_227/IMT_2-19-227/null.decongestion_info.csv\n",
      "columns: Index([' Total delay [hours] ', ' Total travel time [hours]',\n",
      "       ' Total user benefits [monetary units]',\n",
      "       ' System welfare (only considering congestion toll revenues'],\n",
      "      dtype='object')\n",
      "\n"
     ]
    }
   ],
   "source": [
    "def test1(i=0, avg=0):\n",
    "    seed = seeds[i][0]\n",
    "    imt_dep = 2\n",
    "    num_inc = seeds[i][1]\n",
    "\n",
    "    if imt_dep == 1:\n",
    "        filename = f'{filepath}/Seed_{seed}/Incidents_{imt_dep}-{num_inc}-{seed}/null.decongestion_info.csv'\n",
    "    else:\n",
    "        filename = f'{filepath}/Seed_{seed}/IMT_{imt_dep}-{num_inc}-{seed}/null.decongestion_info.csv'\n",
    "\n",
    "    print(filename)\n",
    "\n",
    "    try:\n",
    "        # Attempt to open and process the file\n",
    "        with open(filename, 'r') as file:\n",
    "            # Your file processing code here\n",
    "            #df = pd.read_csv(filename, delimiter=';', index_col=0)\n",
    "            df = pd.read_csv(filename, index_col=0)\n",
    "            if avg == 0:\n",
    "                return df[df.index==100]\n",
    "                #return df\n",
    "            \n",
    "            else:\n",
    "                return df.iloc[-avg:, 0:].mean()\n",
    "            \n",
    "    except FileNotFoundError:\n",
    "        # Handle the error by skipping the file\n",
    "        index_values = [' Total delay [hours] ', ' Total congestion toll payments [monetary units] ', ' Total travel time [hours]', ' Total user benefits [monetary units]', ' System welfare (only considering congestion toll revenues, other revenues are neglected [monetary units]']\n",
    "        nan_series = pd.Series(np.nan, index=index_values)\n",
    "        return nan_series\n",
    "\n",
    "for i in range(0, len(seeds)):\n",
    "    print(f'columns: {test1(i=i).columns}\\n')"
   ]
  },
  {
   "cell_type": "code",
   "execution_count": 8,
   "metadata": {},
   "outputs": [],
   "source": [
    "#score_100 = get_score_df()\n",
    "vhd_100 = get_vhd_df()"
   ]
  },
  {
   "cell_type": "code",
   "execution_count": 9,
   "metadata": {},
   "outputs": [],
   "source": [
    "def plot_vhd(index='seed', columns='fleet',values='total_delay', n=0):\n",
    "\n",
    "    df = get_vhd_df(n)\n",
    "\n",
    "    type = types[values]\n",
    "\n",
    "    if n == 0:\n",
    "        title = f'{type} from 100th iteration'\n",
    "    else:\n",
    "        title = f'Average of final {n} iterations {type}'\n",
    "    # Pivot the data to create columns for each fleet value\n",
    "    pivot_df = df.pivot(index=index, columns=columns, values=values)\n",
    "\n",
    "    # Reindex columns to match the desired order\n",
    "    desired_fleet_order = ['No IMTs', 'Curr IMTs', 'More IMTs']\n",
    "    pivot_df = pivot_df.reindex(columns=desired_fleet_order)\n",
    "\n",
    "    # Plot the data as a bar graph\n",
    "    pivot_df.plot(kind='bar', figsize=(10, 6))\n",
    "    plt.xlabel('Seed')\n",
    "    plt.ylabel(f'{type} (hours)')\n",
    "    plt.title(title)\n",
    "    plt.legend(title='Fleet')\n",
    "\n",
    "    plt.legend(loc='center left', bbox_to_anchor=(1, 0.5))\n",
    "\n",
    "    plt.show()\n",
    "\n",
    "\n",
    "def plot_score(index='seed', columns='fleet',values='avg_executed', n=0):\n",
    "\n",
    "    df = get_score_df(n)\n",
    "\n",
    "    type = types[values]\n",
    "\n",
    "    if n == 0:\n",
    "        title = f'{type} from 100th iteration'\n",
    "    else:\n",
    "        title = f'Average of final {n} iterations of {type}'\n",
    "\n",
    "    # Pivot the data to create columns for each fleet value\n",
    "    pivot_df = df.pivot(index=index, columns=columns, values=values)\n",
    "\n",
    "    # Reindex columns to match the desired order\n",
    "    desired_fleet_order = ['No IMTs', 'Curr IMTs', 'More IMTs']\n",
    "    pivot_df = pivot_df.reindex(columns=desired_fleet_order)\n",
    "\n",
    "    # Plot the data as a bar graph\n",
    "    pivot_df.plot(kind='bar', figsize=(10, 6))\n",
    "    plt.xlabel('Seed')\n",
    "    plt.ylabel(f'{type} score')\n",
    "    plt.title(title)\n",
    "    plt.legend(title='Fleet')\n",
    "\n",
    "    #plt.legend().remove()\n",
    "\n",
    "    plt.tight_layout()\n",
    "    plt.show()\n"
   ]
  },
  {
   "cell_type": "code",
   "execution_count": 17,
   "metadata": {},
   "outputs": [
    {
     "ename": "KeyError",
     "evalue": "' System welfare (only considering congestion toll revenues'",
     "output_type": "error",
     "traceback": [
      "\u001b[0;31m---------------------------------------------------------------------------\u001b[0m",
      "\u001b[0;31mKeyError\u001b[0m                                  Traceback (most recent call last)",
      "File \u001b[0;32m~/anaconda3/lib/python3.10/site-packages/pandas/core/indexes/base.py:3629\u001b[0m, in \u001b[0;36mIndex.get_loc\u001b[0;34m(self, key, method, tolerance)\u001b[0m\n\u001b[1;32m   3628\u001b[0m \u001b[39mtry\u001b[39;00m:\n\u001b[0;32m-> 3629\u001b[0m     \u001b[39mreturn\u001b[39;00m \u001b[39mself\u001b[39;49m\u001b[39m.\u001b[39;49m_engine\u001b[39m.\u001b[39;49mget_loc(casted_key)\n\u001b[1;32m   3630\u001b[0m \u001b[39mexcept\u001b[39;00m \u001b[39mKeyError\u001b[39;00m \u001b[39mas\u001b[39;00m err:\n",
      "File \u001b[0;32m~/anaconda3/lib/python3.10/site-packages/pandas/_libs/index.pyx:136\u001b[0m, in \u001b[0;36mpandas._libs.index.IndexEngine.get_loc\u001b[0;34m()\u001b[0m\n",
      "File \u001b[0;32m~/anaconda3/lib/python3.10/site-packages/pandas/_libs/index.pyx:163\u001b[0m, in \u001b[0;36mpandas._libs.index.IndexEngine.get_loc\u001b[0;34m()\u001b[0m\n",
      "File \u001b[0;32mpandas/_libs/hashtable_class_helper.pxi:5198\u001b[0m, in \u001b[0;36mpandas._libs.hashtable.PyObjectHashTable.get_item\u001b[0;34m()\u001b[0m\n",
      "File \u001b[0;32mpandas/_libs/hashtable_class_helper.pxi:5206\u001b[0m, in \u001b[0;36mpandas._libs.hashtable.PyObjectHashTable.get_item\u001b[0;34m()\u001b[0m\n",
      "\u001b[0;31mKeyError\u001b[0m: ' System welfare (only considering congestion toll revenues'",
      "\nThe above exception was the direct cause of the following exception:\n",
      "\u001b[0;31mKeyError\u001b[0m                                  Traceback (most recent call last)",
      "Cell \u001b[0;32mIn[17], line 1\u001b[0m\n\u001b[0;32m----> 1\u001b[0m plot_vhd(index\u001b[39m=\u001b[39;49m\u001b[39m'\u001b[39;49m\u001b[39mseed\u001b[39;49m\u001b[39m'\u001b[39;49m, columns\u001b[39m=\u001b[39;49m\u001b[39m'\u001b[39;49m\u001b[39mfleet\u001b[39;49m\u001b[39m'\u001b[39;49m,values\u001b[39m=\u001b[39;49m\u001b[39m'\u001b[39;49m\u001b[39mtotal_tt\u001b[39;49m\u001b[39m'\u001b[39;49m, n\u001b[39m=\u001b[39;49m\u001b[39m10\u001b[39;49m)\n",
      "Cell \u001b[0;32mIn[9], line 3\u001b[0m, in \u001b[0;36mplot_vhd\u001b[0;34m(index, columns, values, n)\u001b[0m\n\u001b[1;32m      1\u001b[0m \u001b[39mdef\u001b[39;00m \u001b[39mplot_vhd\u001b[39m(index\u001b[39m=\u001b[39m\u001b[39m'\u001b[39m\u001b[39mseed\u001b[39m\u001b[39m'\u001b[39m, columns\u001b[39m=\u001b[39m\u001b[39m'\u001b[39m\u001b[39mfleet\u001b[39m\u001b[39m'\u001b[39m,values\u001b[39m=\u001b[39m\u001b[39m'\u001b[39m\u001b[39mtotal_delay\u001b[39m\u001b[39m'\u001b[39m, n\u001b[39m=\u001b[39m\u001b[39m0\u001b[39m):\n\u001b[0;32m----> 3\u001b[0m     df \u001b[39m=\u001b[39m get_vhd_df(n)\n\u001b[1;32m      5\u001b[0m     \u001b[39mtype\u001b[39m \u001b[39m=\u001b[39m types[values]\n\u001b[1;32m      7\u001b[0m     \u001b[39mif\u001b[39;00m n \u001b[39m==\u001b[39m \u001b[39m0\u001b[39m:\n",
      "Cell \u001b[0;32mIn[5], line 44\u001b[0m, in \u001b[0;36mget_vhd_df\u001b[0;34m(n)\u001b[0m\n\u001b[1;32m     42\u001b[0m total_tt \u001b[39m=\u001b[39m \u001b[39mfloat\u001b[39m(row[\u001b[39m'\u001b[39m\u001b[39m Total travel time [hours]\u001b[39m\u001b[39m'\u001b[39m])\n\u001b[1;32m     43\u001b[0m total_user_benefits \u001b[39m=\u001b[39m \u001b[39mfloat\u001b[39m(row[\u001b[39m'\u001b[39m\u001b[39m Total user benefits [monetary units]\u001b[39m\u001b[39m'\u001b[39m])\n\u001b[0;32m---> 44\u001b[0m system_welfare \u001b[39m=\u001b[39m \u001b[39mfloat\u001b[39m(row[\u001b[39m'\u001b[39;49m\u001b[39m System welfare (only considering congestion toll revenues\u001b[39;49m\u001b[39m'\u001b[39;49m])\n\u001b[1;32m     46\u001b[0m new_row \u001b[39m=\u001b[39m [code, seed, fleets[i], i, inc, total_delay, total_tt, total_user_benefits, system_welfare]\n\u001b[1;32m     47\u001b[0m \u001b[39mlist\u001b[39m\u001b[39m.\u001b[39mappend(new_row)\n",
      "File \u001b[0;32m~/anaconda3/lib/python3.10/site-packages/pandas/core/series.py:958\u001b[0m, in \u001b[0;36mSeries.__getitem__\u001b[0;34m(self, key)\u001b[0m\n\u001b[1;32m    955\u001b[0m     \u001b[39mreturn\u001b[39;00m \u001b[39mself\u001b[39m\u001b[39m.\u001b[39m_values[key]\n\u001b[1;32m    957\u001b[0m \u001b[39melif\u001b[39;00m key_is_scalar:\n\u001b[0;32m--> 958\u001b[0m     \u001b[39mreturn\u001b[39;00m \u001b[39mself\u001b[39;49m\u001b[39m.\u001b[39;49m_get_value(key)\n\u001b[1;32m    960\u001b[0m \u001b[39mif\u001b[39;00m is_hashable(key):\n\u001b[1;32m    961\u001b[0m     \u001b[39m# Otherwise index.get_value will raise InvalidIndexError\u001b[39;00m\n\u001b[1;32m    962\u001b[0m     \u001b[39mtry\u001b[39;00m:\n\u001b[1;32m    963\u001b[0m         \u001b[39m# For labels that don't resolve as scalars like tuples and frozensets\u001b[39;00m\n",
      "File \u001b[0;32m~/anaconda3/lib/python3.10/site-packages/pandas/core/series.py:1069\u001b[0m, in \u001b[0;36mSeries._get_value\u001b[0;34m(self, label, takeable)\u001b[0m\n\u001b[1;32m   1066\u001b[0m     \u001b[39mreturn\u001b[39;00m \u001b[39mself\u001b[39m\u001b[39m.\u001b[39m_values[label]\n\u001b[1;32m   1068\u001b[0m \u001b[39m# Similar to Index.get_value, but we do not fall back to positional\u001b[39;00m\n\u001b[0;32m-> 1069\u001b[0m loc \u001b[39m=\u001b[39m \u001b[39mself\u001b[39;49m\u001b[39m.\u001b[39;49mindex\u001b[39m.\u001b[39;49mget_loc(label)\n\u001b[1;32m   1070\u001b[0m \u001b[39mreturn\u001b[39;00m \u001b[39mself\u001b[39m\u001b[39m.\u001b[39mindex\u001b[39m.\u001b[39m_get_values_for_loc(\u001b[39mself\u001b[39m, loc, label)\n",
      "File \u001b[0;32m~/anaconda3/lib/python3.10/site-packages/pandas/core/indexes/base.py:3631\u001b[0m, in \u001b[0;36mIndex.get_loc\u001b[0;34m(self, key, method, tolerance)\u001b[0m\n\u001b[1;32m   3629\u001b[0m     \u001b[39mreturn\u001b[39;00m \u001b[39mself\u001b[39m\u001b[39m.\u001b[39m_engine\u001b[39m.\u001b[39mget_loc(casted_key)\n\u001b[1;32m   3630\u001b[0m \u001b[39mexcept\u001b[39;00m \u001b[39mKeyError\u001b[39;00m \u001b[39mas\u001b[39;00m err:\n\u001b[0;32m-> 3631\u001b[0m     \u001b[39mraise\u001b[39;00m \u001b[39mKeyError\u001b[39;00m(key) \u001b[39mfrom\u001b[39;00m \u001b[39merr\u001b[39;00m\n\u001b[1;32m   3632\u001b[0m \u001b[39mexcept\u001b[39;00m \u001b[39mTypeError\u001b[39;00m:\n\u001b[1;32m   3633\u001b[0m     \u001b[39m# If we have a listlike key, _check_indexing_error will raise\u001b[39;00m\n\u001b[1;32m   3634\u001b[0m     \u001b[39m#  InvalidIndexError. Otherwise we fall through and re-raise\u001b[39;00m\n\u001b[1;32m   3635\u001b[0m     \u001b[39m#  the TypeError.\u001b[39;00m\n\u001b[1;32m   3636\u001b[0m     \u001b[39mself\u001b[39m\u001b[39m.\u001b[39m_check_indexing_error(key)\n",
      "\u001b[0;31mKeyError\u001b[0m: ' System welfare (only considering congestion toll revenues'"
     ]
    }
   ],
   "source": [
    "plot_vhd(index='seed', columns='fleet',values='total_tt', n=10)\n"
   ]
  },
  {
   "cell_type": "code",
   "execution_count": 10,
   "metadata": {},
   "outputs": [
    {
     "data": {
      "image/png": "[encoded data removed]",
      "text/plain": [
       "<Figure size 1000x600 with 1 Axes>"
      ]
     },
     "metadata": {},
     "output_type": "display_data"
    }
   ],
   "source": [
    "plot_vhd(index='seed', columns='fleet',values='total_tt', n=10)\n"
   ]
  },
  {
   "cell_type": "code",
   "execution_count": 11,
   "metadata": {},
   "outputs": [
    {
     "data": {
      "image/png": "[encoded data removed]",
      "text/plain": [
       "<Figure size 1000x600 with 1 Axes>"
      ]
     },
     "metadata": {},
     "output_type": "display_data"
    }
   ],
   "source": [
    "#plot_score(n=10)\n",
    "#plot_score(n=10, values='avg_worst')\n",
    "#plot_score(n=10, values='avg_avg')\n",
    "plot_score(n=10, values = 'avg_best')\n"
   ]
  }
 ],
 "metadata": {
  "kernelspec": {
   "display_name": "base",
   "language": "python",
   "name": "python3"
  },
  "language_info": {
   "codemirror_mode": {
    "name": "ipython",
    "version": 3
   },
   "file_extension": ".py",
   "mimetype": "text/x-python",
   "name": "python",
   "nbconvert_exporter": "python",
   "pygments_lexer": "ipython3",
   "version": "3.10.9"
  },
  "orig_nbformat": 4
 },
 "nbformat": 4,
 "nbformat_minor": 2
}
